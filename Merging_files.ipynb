{
 "cells": [
  {
   "cell_type": "code",
   "execution_count": 1,
   "metadata": {
    "collapsed": false
   },
   "outputs": [
    {
     "data": {
      "text/plain": [
       "<pyspark.context.SparkContext at 0x2ac8470>"
      ]
     },
     "execution_count": 1,
     "metadata": {},
     "output_type": "execute_result"
    }
   ],
   "source": [
    "sc"
   ]
  },
  {
   "cell_type": "code",
   "execution_count": 137,
   "metadata": {
    "collapsed": false
   },
   "outputs": [],
   "source": [
    "import datetime\n",
    "from pyspark.sql.functions import *\n",
    "from pyspark.sql.functions import udf\n",
    "from pyspark.sql.types import BooleanType\n",
    "from geopy.distance import vincenty\n",
    "from pyspark.sql import Row\n",
    "import csv\n",
    "from pyspark.sql import SQLContext\n",
    "import shapely as shp\n",
    "from shapely.geometry import Point, Polygon\n",
    "import shapely as shp\n",
    "import pandas as pd, numpy as np, matplotlib.pyplot as plt\n",
    "from sklearn.cluster import DBSCAN\n",
    "from geopy.distance import great_circle\n",
    "from shapely.geometry import MultiPoint\n",
    "import geopandas as gpd\n",
    "import seaborn as sns\n"
   ]
  },
  {
   "cell_type": "code",
   "execution_count": 74,
   "metadata": {
    "collapsed": false
   },
   "outputs": [],
   "source": [
    "airports = sqlContext.read.load(\n",
    "    'Data/Airport Codes8.csv', format='csv', header=True, inferSchema=True)"
   ]
  },
  {
   "cell_type": "code",
   "execution_count": 75,
   "metadata": {
    "collapsed": false
   },
   "outputs": [
    {
     "name": "stdout",
     "output_type": "stream",
     "text": [
      "('Airport (IATA)', 'string') 0\n",
      "('Airport (Name)', 'string') 1\n",
      "('Airport (City)', 'string') 2\n",
      "('Country (Name)', 'string') 3\n",
      "('Latitude', 'double') 4\n",
      "('Longitude', 'double') 5\n"
     ]
    }
   ],
   "source": [
    "for num, i in enumerate(airports.dtypes):\n",
    "    print i, num"
   ]
  },
  {
   "cell_type": "code",
   "execution_count": 76,
   "metadata": {
    "collapsed": true
   },
   "outputs": [],
   "source": [
    "airports = airports.select('*').withColumnRenamed('Airport (IATA)', 'Airport')\n",
    "airports = airports.select('*').withColumnRenamed('Airport (Name)', 'Name')\n",
    "airports = airports.select('*').withColumnRenamed('Airport (City)', 'City')\n",
    "airports = airports.drop('Country (Name)')"
   ]
  },
  {
   "cell_type": "code",
   "execution_count": 77,
   "metadata": {
    "collapsed": false
   },
   "outputs": [
    {
     "name": "stdout",
     "output_type": "stream",
     "text": [
      "+-------+--------------------+-------------+----------+-----------+\n",
      "|Airport|                Name|         City|  Latitude|  Longitude|\n",
      "+-------+--------------------+-------------+----------+-----------+\n",
      "|    04G|   Lansdowne Airport|   Youngstown|41.1304722|-80.6195833|\n",
      "|    06A|Moton Field Munic...|     Tuskegee|32.4605722|-85.6800278|\n",
      "|    06C| Schaumburg Regional|   Schaumburg|41.9893408|-88.1012428|\n",
      "|    06N|     Randall Airport|   Middletown| 41.431912|-74.3915611|\n",
      "|    09J|Jekyll Island Air...|Jekyll Island|31.0744722|-81.4277778|\n",
      "+-------+--------------------+-------------+----------+-----------+\n",
      "only showing top 5 rows\n",
      "\n"
     ]
    }
   ],
   "source": [
    "airports.show(5)"
   ]
  },
  {
   "cell_type": "code",
   "execution_count": 78,
   "metadata": {
    "collapsed": false
   },
   "outputs": [
    {
     "name": "stdout",
     "output_type": "stream",
     "text": [
      "('_c0', 'int') 0\n",
      "('Airport', 'string') 1\n",
      "('origin_count', 'double') 2\n",
      "('dest_count', 'double') 3\n",
      "('Total_Flights', 'double') 4\n"
     ]
    }
   ],
   "source": [
    "busyairports = sqlContext.read.load(\n",
    "    'Output/MostBussyAirport.csv', format='csv', header=True, inferSchema=True)\n",
    "for num, i in enumerate(busyairports.dtypes):\n",
    "    print i, num"
   ]
  },
  {
   "cell_type": "code",
   "execution_count": 79,
   "metadata": {
    "collapsed": false
   },
   "outputs": [
    {
     "name": "stdout",
     "output_type": "stream",
     "text": [
      "+---+-------+------------+----------+-------------+\n",
      "|_c0|Airport|origin_count|dest_count|Total_Flights|\n",
      "+---+-------+------------+----------+-------------+\n",
      "|  0|    ATL|   1133578.0| 1133592.0|    2267170.0|\n",
      "|  1|    ORD|    844654.0|  844780.0|    1689434.0|\n",
      "|  2|    DFW|    734953.0|  734956.0|    1469909.0|\n",
      "|  3|    DEN|    664532.0|  664427.0|    1328959.0|\n",
      "|  4|    LAX|    647316.0|  647348.0|    1294664.0|\n",
      "|  5|    SFO|    501429.0|  501417.0|    1002846.0|\n",
      "|  6|    PHX|    479337.0|  479374.0|     958711.0|\n",
      "|  7|    IAH|    471135.0|  471237.0|     942372.0|\n",
      "|  8|    LAS|    433610.0|  433648.0|     867258.0|\n",
      "|  9|    SEA|    362626.0|  362641.0|     725267.0|\n",
      "+---+-------+------------+----------+-------------+\n",
      "only showing top 10 rows\n",
      "\n"
     ]
    }
   ],
   "source": [
    "busyairports.show(10)"
   ]
  },
  {
   "cell_type": "code",
   "execution_count": 80,
   "metadata": {
    "collapsed": false
   },
   "outputs": [
    {
     "name": "stdout",
     "output_type": "stream",
     "text": [
      "+---+-------+------------------+----------------+-------------------+-------------+\n",
      "|_c0|Airport|clean_origin_count|clean_dest_count|clean_Total_Flights|Total_Flights|\n",
      "+---+-------+------------------+----------------+-------------------+-------------+\n",
      "|  0|    ATL|         1133578.0|       1133592.0|          2267170.0|    2267170.0|\n",
      "|  1|    ORD|          844654.0|        844780.0|          1689434.0|    1689434.0|\n",
      "|  2|    DFW|          734953.0|        734956.0|          1469909.0|    1469909.0|\n",
      "|  3|    DEN|          664532.0|        664427.0|          1328959.0|    1328959.0|\n",
      "|  4|    LAX|          647316.0|        647348.0|          1294664.0|    1294664.0|\n",
      "|  5|    SFO|          501429.0|        501417.0|          1002846.0|    1002846.0|\n",
      "|  6|    PHX|          479337.0|        479374.0|           958711.0|     958711.0|\n",
      "|  7|    IAH|          471135.0|        471237.0|           942372.0|     942372.0|\n",
      "|  8|    LAS|          433610.0|        433648.0|           867258.0|     867258.0|\n",
      "|  9|    SEA|          362626.0|        362641.0|           725267.0|     725267.0|\n",
      "| 10|    MSP|          358153.0|        358101.0|           716254.0|     716254.0|\n",
      "| 11|    MCO|          356161.0|        356166.0|           712327.0|     712327.0|\n",
      "| 12|    BOS|          349907.0|        349895.0|           699802.0|     699802.0|\n",
      "| 13|    DTW|          348364.0|        348422.0|           696786.0|     696786.0|\n",
      "| 14|    EWR|          337533.0|        337652.0|           675185.0|     675185.0|\n",
      "| 15|    CLT|          332815.0|        332838.0|           665653.0|     665653.0|\n",
      "| 16|    SLC|          323378.0|        323397.0|           646775.0|     646775.0|\n",
      "| 17|    LGA|          311730.0|        311689.0|           623419.0|     623419.0|\n",
      "| 18|    JFK|          300425.0|        300370.0|           600795.0|     600795.0|\n",
      "| 19|    BWI|          281170.0|        281161.0|           562331.0|     562331.0|\n",
      "+---+-------+------------------+----------------+-------------------+-------------+\n",
      "only showing top 20 rows\n",
      "\n"
     ]
    }
   ],
   "source": [
    "busyairports = busyairports.select('*', coalesce(busyairports[\"origin_count\"], lit(0.0)).alias('clean_origin_count'))\n",
    "busyairports = busyairports.drop('origin_count')\n",
    "busyairports = busyairports.select('*', coalesce(busyairports[\"dest_count\"], lit(0.0)).alias('clean_dest_count'))\n",
    "busyairports = busyairports.drop('dest_count')\n",
    "busyairports = busyairports.select('*', coalesce(busyairports[\"Total_Flights\"], lit(0.0)).alias('clean_Total_Flights'))\n",
    "busyairports = busyairports.drop('Total_Flights')\n",
    "busyairports = busyairports.select('*', (busyairports.clean_origin_count+busyairports.clean_dest_count).alias('Total_Flights') )\n",
    "busyairports.show()"
   ]
  },
  {
   "cell_type": "code",
   "execution_count": 81,
   "metadata": {
    "collapsed": false
   },
   "outputs": [
    {
     "data": {
      "text/plain": [
       "336"
      ]
     },
     "execution_count": 81,
     "metadata": {},
     "output_type": "execute_result"
    }
   ],
   "source": [
    "busyairports.count()"
   ]
  },
  {
   "cell_type": "code",
   "execution_count": 82,
   "metadata": {
    "collapsed": false
   },
   "outputs": [
    {
     "name": "stdout",
     "output_type": "stream",
     "text": [
      "+---+-------+------------------+----------------+-------------------+-------------+\n",
      "|_c0|Airport|clean_origin_count|clean_dest_count|clean_Total_Flights|Total_Flights|\n",
      "+---+-------+------------------+----------------+-------------------+-------------+\n",
      "|330|    ENV|               1.0|             0.0|                0.0|          1.0|\n",
      "|331|   DEST|               0.0|            35.0|                0.0|         35.0|\n",
      "|332| ORIGIN|              35.0|             0.0|                0.0|         35.0|\n",
      "|333|    MCN|               1.0|             0.0|                0.0|          1.0|\n",
      "|334|    EFD|               1.0|             0.0|                0.0|          1.0|\n",
      "|335|    BFF|               1.0|             0.0|                0.0|          1.0|\n",
      "+---+-------+------------------+----------------+-------------------+-------------+\n",
      "\n"
     ]
    }
   ],
   "source": [
    "busyairports.filter(busyairports.clean_Total_Flights==0).show()"
   ]
  },
  {
   "cell_type": "code",
   "execution_count": 83,
   "metadata": {
    "collapsed": false
   },
   "outputs": [
    {
     "name": "stdout",
     "output_type": "stream",
     "text": [
      "+---+-------+------------------+----------------+-------------------+-------------+\n",
      "|_c0|Airport|clean_origin_count|clean_dest_count|clean_Total_Flights|Total_Flights|\n",
      "+---+-------+------------------+----------------+-------------------+-------------+\n",
      "+---+-------+------------------+----------------+-------------------+-------------+\n",
      "\n"
     ]
    }
   ],
   "source": [
    "busyairports.filter(busyairports.Total_Flights==0).show()"
   ]
  },
  {
   "cell_type": "code",
   "execution_count": 84,
   "metadata": {
    "collapsed": false
   },
   "outputs": [
    {
     "data": {
      "text/plain": [
       "334"
      ]
     },
     "execution_count": 84,
     "metadata": {},
     "output_type": "execute_result"
    }
   ],
   "source": [
    "busyairports = busyairports.filter(busyairports.Airport!='DEST')\n",
    "busyairports = busyairports.filter(busyairports.Airport!='ORIGIN')\n",
    "busyairports.count()"
   ]
  },
  {
   "cell_type": "code",
   "execution_count": 85,
   "metadata": {
    "collapsed": false
   },
   "outputs": [
    {
     "name": "stdout",
     "output_type": "stream",
     "text": [
      "+-------+------------+----------+-------------+\n",
      "|Airport|origin_count|dest_count|Total_Flights|\n",
      "+-------+------------+----------+-------------+\n",
      "|    ATL|   1133578.0| 1133592.0|    2267170.0|\n",
      "|    ORD|    844654.0|  844780.0|    1689434.0|\n",
      "|    DFW|    734953.0|  734956.0|    1469909.0|\n",
      "|    DEN|    664532.0|  664427.0|    1328959.0|\n",
      "|    LAX|    647316.0|  647348.0|    1294664.0|\n",
      "|    SFO|    501429.0|  501417.0|    1002846.0|\n",
      "|    PHX|    479337.0|  479374.0|     958711.0|\n",
      "|    IAH|    471135.0|  471237.0|     942372.0|\n",
      "|    LAS|    433610.0|  433648.0|     867258.0|\n",
      "|    SEA|    362626.0|  362641.0|     725267.0|\n",
      "|    MSP|    358153.0|  358101.0|     716254.0|\n",
      "|    MCO|    356161.0|  356166.0|     712327.0|\n",
      "|    BOS|    349907.0|  349895.0|     699802.0|\n",
      "|    DTW|    348364.0|  348422.0|     696786.0|\n",
      "|    EWR|    337533.0|  337652.0|     675185.0|\n",
      "|    CLT|    332815.0|  332838.0|     665653.0|\n",
      "|    SLC|    323378.0|  323397.0|     646775.0|\n",
      "|    LGA|    311730.0|  311689.0|     623419.0|\n",
      "|    JFK|    300425.0|  300370.0|     600795.0|\n",
      "|    BWI|    281170.0|  281161.0|     562331.0|\n",
      "+-------+------------+----------+-------------+\n",
      "only showing top 20 rows\n",
      "\n"
     ]
    }
   ],
   "source": [
    "busyairports = busyairports.drop('clean_Total_Flights')\n",
    "busyairports = busyairports.drop('_c0')\n",
    "busyairports = busyairports.select('*').withColumnRenamed('clean_dest_count', 'dest_count')\n",
    "busyairports = busyairports.select('*').withColumnRenamed('clean_origin_count', 'origin_count')\n",
    "busyairports.show()"
   ]
  },
  {
   "cell_type": "code",
   "execution_count": 86,
   "metadata": {
    "collapsed": false
   },
   "outputs": [
    {
     "name": "stdout",
     "output_type": "stream",
     "text": [
      "+-------+--------------------+-------------+----------+------------+------------+----------+-------------+\n",
      "|Airport|                Name|         City|  Latitude|   Longitude|origin_count|dest_count|Total_Flights|\n",
      "+-------+--------------------+-------------+----------+------------+------------+----------+-------------+\n",
      "|    ABE|  Lehigh Valley Intl|    Allentown| 40.652083|  -75.440806|      6520.0|    6524.0|      13044.0|\n",
      "|    ABI|        Abilene Rgnl|      Abilene| 32.411319|  -99.681897|      5523.0|    5522.0|      11045.0|\n",
      "|    ABQ|Albuquerque Inter...|  Albuquerque|35.0402222|-106.6091944|     64610.0|   64602.0|     129212.0|\n",
      "|    ABR|Aberdeen Regional...|     Aberdeen|   45.4491|    -98.4218|      2237.0|    2236.0|       4473.0|\n",
      "|    ABY|Southwest Georgia...|       Albany|   31.5355|    -84.1945|      2968.0|    2968.0|       5936.0|\n",
      "|    ACK|       Nantucket Mem|    Nantucket| 41.253053|  -70.060181|      1529.0|    1529.0|       3058.0|\n",
      "|    ACT|           Waco Rgnl|         Waco| 31.611289|  -97.230519|      4941.0|    4941.0|       9882.0|\n",
      "|    ACV|              Arcata|    Arcata CA| 40.978111| -124.108611|      5919.0|    5921.0|      11840.0|\n",
      "|    ACY|  Atlantic City Intl|Atlantic City| 39.457583|  -74.577167|      8004.0|    8004.0|      16008.0|\n",
      "|    ADK|        Adak Airport|  Adak Island|    51.878|    -176.646|       313.0|     313.0|        626.0|\n",
      "|    ADQ|              Kodiak|       Kodiak| 57.749967| -152.493856|      1569.0|    1569.0|       3138.0|\n",
      "|    AEX|     Alexandria Intl|   Alexandria|   31.3274|  -92.549833|      9713.0|    9714.0|      19427.0|\n",
      "|    AGS|Augusta Rgnl At B...|   Bush Field| 33.369944|    -81.9645|      7880.0|    7882.0|      15762.0|\n",
      "|    AKN|         King Salmon|  King Salmon| 58.676778| -156.649278|       189.0|     189.0|        378.0|\n",
      "|    ALB|         Albany Intl|       Albany| 42.748267|  -73.801692|     25536.0|   25531.0|      51067.0|\n",
      "|    ALO|Waterloo Regional...|     Waterloo|   42.5571|    -92.4003|      1352.0|    1352.0|       2704.0|\n",
      "|    AMA|Rick Husband Amar...|     Amarillo| 35.219369| -101.705931|     14859.0|   14857.0|      29716.0|\n",
      "|    ANC|Ted Stevens Ancho...|    Anchorage| 61.174361| -149.996361|     51281.0|   51275.0|     102556.0|\n",
      "|    APN|Alpena County Reg...|       Alpena|   45.0781|    -83.5603|      1894.0|    1894.0|       3788.0|\n",
      "|    ART|      Watertown Intl|    Watertown| 43.991922|  -76.021739|       237.0|     236.0|        473.0|\n",
      "+-------+--------------------+-------------+----------+------------+------------+----------+-------------+\n",
      "only showing top 20 rows\n",
      "\n"
     ]
    }
   ],
   "source": [
    "locAirports = airports.join(busyairports, on = \"Airport\", how = 'inner')\n",
    "locAirports.show()"
   ]
  },
  {
   "cell_type": "code",
   "execution_count": 87,
   "metadata": {
    "collapsed": false
   },
   "outputs": [
    {
     "data": {
      "text/plain": [
       "334"
      ]
     },
     "execution_count": 87,
     "metadata": {},
     "output_type": "execute_result"
    }
   ],
   "source": [
    "locAirports.count()"
   ]
  },
  {
   "cell_type": "code",
   "execution_count": 55,
   "metadata": {
    "collapsed": false
   },
   "outputs": [
    {
     "name": "stdout",
     "output_type": "stream",
     "text": [
      "('Airport', 'string') 0\n",
      "('Airport (Name)', 'string') 1\n",
      "('Airport (City)', 'string') 2\n",
      "('Country (Name)', 'string') 3\n",
      "('Latitude', 'double') 4\n",
      "('Longitude', 'double') 5\n",
      "('_c0', 'int') 6\n",
      "('clean_origin_count', 'double') 7\n",
      "('clean_dest_count', 'double') 8\n",
      "('Total_Flights', 'double') 9\n"
     ]
    }
   ],
   "source": [
    "for num, i in enumerate(locAirports.dtypes):\n",
    "    print i, num"
   ]
  },
  {
   "cell_type": "code",
   "execution_count": 133,
   "metadata": {
    "collapsed": true
   },
   "outputs": [],
   "source": [
    "locAirports.toPandas().to_csv('Output/Airports_Location_Counts.csv')"
   ]
  },
  {
   "cell_type": "code",
   "execution_count": 140,
   "metadata": {
    "collapsed": false,
    "scrolled": true
   },
   "outputs": [],
   "source": [
    "pdlocAirports = locAirports.toPandas()"
   ]
  },
  {
   "cell_type": "code",
   "execution_count": 141,
   "metadata": {
    "collapsed": true
   },
   "outputs": [],
   "source": [
    "geometry = []\n",
    "for air in pdlocAirports.Airport:\n",
    "    geometry.append(shp.geometry.Point(pdlocAirports.loc[pdlocAirports.Airport==air,'Longitude'],pdlocAirports.loc[pdlocAirports.Airport==air,'Latitude']))"
   ]
  },
  {
   "cell_type": "code",
   "execution_count": 142,
   "metadata": {
    "collapsed": false
   },
   "outputs": [],
   "source": [
    "crs = {'init': 'epsg:3857'}\n",
    "pdlocAirports = gpd.GeoDataFrame(pdlocAirports,crs=crs, geometry=geometry)"
   ]
  },
  {
   "cell_type": "code",
   "execution_count": 144,
   "metadata": {
    "collapsed": false,
    "scrolled": false
   },
   "outputs": [
    {
     "data": {
      "text/html": [
       "<div>\n",
       "<table border=\"1\" class=\"dataframe\">\n",
       "  <thead>\n",
       "    <tr style=\"text-align: right;\">\n",
       "      <th></th>\n",
       "      <th>Airport</th>\n",
       "      <th>Name</th>\n",
       "      <th>City</th>\n",
       "      <th>Latitude</th>\n",
       "      <th>Longitude</th>\n",
       "      <th>origin_count</th>\n",
       "      <th>dest_count</th>\n",
       "      <th>Total_Flights</th>\n",
       "      <th>geometry</th>\n",
       "    </tr>\n",
       "  </thead>\n",
       "  <tbody>\n",
       "    <tr>\n",
       "      <th>0</th>\n",
       "      <td>ABE</td>\n",
       "      <td>Lehigh Valley Intl</td>\n",
       "      <td>Allentown</td>\n",
       "      <td>40.652083</td>\n",
       "      <td>-75.440806</td>\n",
       "      <td>6520.0</td>\n",
       "      <td>6524.0</td>\n",
       "      <td>13044.0</td>\n",
       "      <td>POINT (-75.440806 40.652083)</td>\n",
       "    </tr>\n",
       "    <tr>\n",
       "      <th>1</th>\n",
       "      <td>ABI</td>\n",
       "      <td>Abilene Rgnl</td>\n",
       "      <td>Abilene</td>\n",
       "      <td>32.411319</td>\n",
       "      <td>-99.681897</td>\n",
       "      <td>5523.0</td>\n",
       "      <td>5522.0</td>\n",
       "      <td>11045.0</td>\n",
       "      <td>POINT (-99.68189700000001 32.411319)</td>\n",
       "    </tr>\n",
       "    <tr>\n",
       "      <th>2</th>\n",
       "      <td>ABQ</td>\n",
       "      <td>Albuquerque International Sunport</td>\n",
       "      <td>Albuquerque</td>\n",
       "      <td>35.040222</td>\n",
       "      <td>-106.609194</td>\n",
       "      <td>64610.0</td>\n",
       "      <td>64602.0</td>\n",
       "      <td>129212.0</td>\n",
       "      <td>POINT (-106.6091944 35.0402222)</td>\n",
       "    </tr>\n",
       "  </tbody>\n",
       "</table>\n",
       "</div>"
      ],
      "text/plain": [
       "  Airport                               Name         City   Latitude  \\\n",
       "0     ABE                 Lehigh Valley Intl    Allentown  40.652083   \n",
       "1     ABI                       Abilene Rgnl      Abilene  32.411319   \n",
       "2     ABQ  Albuquerque International Sunport  Albuquerque  35.040222   \n",
       "\n",
       "    Longitude  origin_count  dest_count  Total_Flights  \\\n",
       "0  -75.440806        6520.0      6524.0        13044.0   \n",
       "1  -99.681897        5523.0      5522.0        11045.0   \n",
       "2 -106.609194       64610.0     64602.0       129212.0   \n",
       "\n",
       "                               geometry  \n",
       "0          POINT (-75.440806 40.652083)  \n",
       "1  POINT (-99.68189700000001 32.411319)  \n",
       "2       POINT (-106.6091944 35.0402222)  "
      ]
     },
     "execution_count": 144,
     "metadata": {},
     "output_type": "execute_result"
    }
   ],
   "source": [
    "pdlocAirports.head(3)"
   ]
  },
  {
   "cell_type": "code",
   "execution_count": 148,
   "metadata": {
    "collapsed": true
   },
   "outputs": [],
   "source": [
    "with open('Data/Airport_Codes_Lat_Lon.geojson', 'w') as f:\n",
    "    f.write(pdlocAirports.to_json())"
   ]
  },
  {
   "cell_type": "code",
   "execution_count": null,
   "metadata": {
    "collapsed": true
   },
   "outputs": [],
   "source": []
  }
 ],
 "metadata": {
  "anaconda-cloud": {},
  "kernelspec": {
   "display_name": "Python [Root]",
   "language": "python",
   "name": "Python [Root]"
  },
  "language_info": {
   "codemirror_mode": {
    "name": "ipython",
    "version": 2
   },
   "file_extension": ".py",
   "mimetype": "text/x-python",
   "name": "python",
   "nbconvert_exporter": "python",
   "pygments_lexer": "ipython2",
   "version": "2.7.12"
  }
 },
 "nbformat": 4,
 "nbformat_minor": 0
}
